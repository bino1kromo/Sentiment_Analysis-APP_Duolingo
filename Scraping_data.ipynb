{
  "nbformat": 4,
  "nbformat_minor": 0,
  "metadata": {
    "colab": {
      "provenance": []
    },
    "kernelspec": {
      "name": "python3",
      "display_name": "Python 3"
    },
    "language_info": {
      "name": "python"
    }
  },
  "cells": [
    {
      "cell_type": "markdown",
      "source": [
        "# Bagian 1: Mengambil Data dengan Scraping"
      ],
      "metadata": {
        "id": "r709vjlNiNJa"
      }
    },
    {
      "cell_type": "code",
      "execution_count": 1,
      "metadata": {
        "colab": {
          "base_uri": "https://localhost:8080/"
        },
        "id": "SXvLfoNlG7D8",
        "outputId": "7a0e9b90-40de-4ae3-e8c0-07184b2ee929"
      },
      "outputs": [
        {
          "output_type": "stream",
          "name": "stdout",
          "text": [
            "Collecting google-play-scraper\n",
            "  Downloading google_play_scraper-1.2.7-py3-none-any.whl.metadata (50 kB)\n",
            "\u001b[?25l     \u001b[90m━━━━━━━━━━━━━━━━━━━━━━━━━━━━━━━━━━━━━━━━\u001b[0m \u001b[32m0.0/50.2 kB\u001b[0m \u001b[31m?\u001b[0m eta \u001b[36m-:--:--\u001b[0m\r\u001b[2K     \u001b[90m━━━━━━━━━━━━━━━━━━━━━━━━━━━━━━━━━━━━━━━━\u001b[0m \u001b[32m50.2/50.2 kB\u001b[0m \u001b[31m2.5 MB/s\u001b[0m eta \u001b[36m0:00:00\u001b[0m\n",
            "\u001b[?25hRequirement already satisfied: pandas in /usr/local/lib/python3.11/dist-packages (2.2.2)\n",
            "Requirement already satisfied: numpy>=1.23.2 in /usr/local/lib/python3.11/dist-packages (from pandas) (1.26.4)\n",
            "Requirement already satisfied: python-dateutil>=2.8.2 in /usr/local/lib/python3.11/dist-packages (from pandas) (2.8.2)\n",
            "Requirement already satisfied: pytz>=2020.1 in /usr/local/lib/python3.11/dist-packages (from pandas) (2024.2)\n",
            "Requirement already satisfied: tzdata>=2022.7 in /usr/local/lib/python3.11/dist-packages (from pandas) (2024.2)\n",
            "Requirement already satisfied: six>=1.5 in /usr/local/lib/python3.11/dist-packages (from python-dateutil>=2.8.2->pandas) (1.17.0)\n",
            "Downloading google_play_scraper-1.2.7-py3-none-any.whl (28 kB)\n",
            "Installing collected packages: google-play-scraper\n",
            "Successfully installed google-play-scraper-1.2.7\n"
          ]
        }
      ],
      "source": [
        "!pip install google-play-scraper pandas"
      ]
    },
    {
      "cell_type": "code",
      "source": [
        "# Import library untuk scraping\n",
        "from google_play_scraper import reviews, Sort\n",
        "import pandas as pd"
      ],
      "metadata": {
        "id": "kZnGCkNTfp5G"
      },
      "execution_count": 2,
      "outputs": []
    },
    {
      "cell_type": "code",
      "source": [
        "# Scraping ulasan aplikasi Duolingo\n",
        "result, _ = reviews(\n",
        "    'com.duolingo',  # ID aplikasi Duolingo di PlayStore\n",
        "    lang='id',       # Bahasa ulasan yang diambil adalah Bahasa Indonesia\n",
        "    country='id',    # Negara Indonesia sebagai sumber ulasan\n",
        "    sort=Sort.NEWEST,  # Mengurutkan ulasan berdasarkan yang terbaru\n",
        "    count=10000,      # Mengambil minimal 10.000 ulasan\n",
        "    filter_score_with=None\n",
        ")"
      ],
      "metadata": {
        "id": "G61oJmDOfs_z"
      },
      "execution_count": 3,
      "outputs": []
    },
    {
      "cell_type": "code",
      "source": [
        "# Konversi hasil scraping ke DataFrame\n",
        "df = pd.DataFrame(result)\n",
        "\n",
        "# Simpan data ke file CSV\n",
        "df.to_csv('duolingo_reviews_full.csv', index=False)\n",
        "print(\"Data scraping selesai dan disimpan ke 'duolingo_reviews_full.csv'\")"
      ],
      "metadata": {
        "colab": {
          "base_uri": "https://localhost:8080/"
        },
        "id": "4hEO3WfYAyfL",
        "outputId": "06538a1f-2447-424e-851d-3a283022b660"
      },
      "execution_count": 5,
      "outputs": [
        {
          "output_type": "stream",
          "name": "stdout",
          "text": [
            "Data scraping selesai dan disimpan ke 'duolingo_reviews_full.csv'\n"
          ]
        }
      ]
    }
  ]
}